{
 "cells": [
  {
   "cell_type": "code",
   "execution_count": 4,
   "metadata": {},
   "outputs": [],
   "source": [
    "from datetime import datetime\n",
    "import json\n",
    "from elasticsearch import Elasticsearch \n",
    "import esutils\n",
    "es = Elasticsearch('http://localhost:9200')"
   ]
  },
  {
   "cell_type": "code",
   "execution_count": 3,
   "metadata": {},
   "outputs": [],
   "source": []
  },
  {
   "cell_type": "code",
   "execution_count": 1,
   "metadata": {},
   "outputs": [],
   "source": [
    "def filter_val(dictResponse,keyword):\n",
    "    dictHits= dictResponse['hits']['hits']\n",
    "    try:\n",
    "        dictHits[0][\"_source\"][keyword]\n",
    "        return(dictHits[0][\"_source\"][keyword])\n",
    "    except:\n",
    "        return None"
   ]
  },
  {
   "cell_type": "markdown",
   "metadata": {},
   "source": [
    "#Load and index the ground truth (json) into elastic search DB"
   ]
  },
  {
   "cell_type": "code",
   "execution_count": 230,
   "metadata": {},
   "outputs": [
    {
     "name": "stderr",
     "output_type": "stream",
     "text": [
      "/Users/ar46/opt/anaconda3/lib/python3.7/site-packages/ipykernel_launcher.py:11: ElasticsearchWarning: Elasticsearch built-in security features are not enabled. Without authentication, your cluster could be accessible to anyone. See https://www.elastic.co/guide/en/elasticsearch/reference/7.17/security-minimal-setup.html to enable security.\n",
      "  # This is added back by InteractiveShellApp.init_path()\n"
     ]
    }
   ],
   "source": [
    "doc = {\n",
    "    'source_id': 'historical',\n",
    "    'chunk': '5yr',\n",
    "    'model': 'GFDL-CM4',\n",
    "    'variable_id': 'tas',\n",
    "    'forcing_id': 'Ghg',\n",
    "    'frequency': 'monthly',\n",
    "    'realm': 'atmos',\n",
    "    'dimensions': 'lat lon time'\n",
    "}\n",
    "resp = es.index(index=\"test-exp\", id=\"GFDL-CM4-historical-tas-atmos-monthly\", document=doc)"
   ]
  },
  {
   "cell_type": "code",
   "execution_count": 205,
   "metadata": {},
   "outputs": [
    {
     "name": "stdout",
     "output_type": "stream",
     "text": [
      "updated\n"
     ]
    },
    {
     "name": "stderr",
     "output_type": "stream",
     "text": [
      "/Users/ar46/opt/anaconda3/lib/python3.7/site-packages/ipykernel_launcher.py:11: ElasticsearchWarning: Elasticsearch built-in security features are not enabled. Without authentication, your cluster could be accessible to anyone. See https://www.elastic.co/guide/en/elasticsearch/reference/7.17/security-minimal-setup.html to enable security.\n",
      "  # This is added back by InteractiveShellApp.init_path()\n"
     ]
    }
   ],
   "source": [
    "doc = {\n",
    "    'source_id': 'historical',\n",
    "    'chunk': '5yr',\n",
    "    'model': 'GFDL-ESM4',\n",
    "    'variable_id': 'tas',\n",
    "    'forcing_id': 'Ghg',\n",
    "    'frequency': 'monthly',\n",
    "    'realm': 'atmos',\n",
    "    'dimensions': 'lat lon time'\n",
    "}\n",
    "rr = es.index(index=\"test-exp\", id=\"GFDL-ESM4-historical-tas-atmos-monthly\", document=doc)\n",
    "print(rr['result'])"
   ]
  },
  {
   "cell_type": "code",
   "execution_count": 158,
   "metadata": {},
   "outputs": [
    {
     "name": "stderr",
     "output_type": "stream",
     "text": [
      "/Users/ar46/opt/anaconda3/lib/python3.7/site-packages/ipykernel_launcher.py:6: DeprecationWarning: The 'body' parameter is deprecated and will be removed in a future version. Instead use individual parameters.\n",
      "  \n",
      "/Users/ar46/opt/anaconda3/lib/python3.7/site-packages/ipykernel_launcher.py:6: ElasticsearchWarning: Elasticsearch built-in security features are not enabled. Without authentication, your cluster could be accessible to anyone. See https://www.elastic.co/guide/en/elasticsearch/reference/7.17/security-minimal-setup.html to enable security.\n",
      "  \n"
     ]
    }
   ],
   "source": [
    "resp = es.search(index=\"test-exp\", body={\n",
    "    \"query\": {\n",
    "          \"bool\": {\n",
    "              \"must\": {\n",
    "                  \"match_phrase\":{\n",
    "                      \"model\": \"GFDL-ESM4\",\n",
    "                  }\n",
    "              }\n",
    "          }\n",
    "    }\n",
    "})"
   ]
  },
  {
   "cell_type": "code",
   "execution_count": 206,
   "metadata": {},
   "outputs": [
    {
     "data": {
      "text/plain": [
       "ObjectApiResponse({'_index': 'test-exp', '_type': '_doc', '_id': 'GFDL-ESM4-historical-tas-atmos-monthly', '_version': 3, 'result': 'updated', '_shards': {'total': 2, 'successful': 1, 'failed': 0}, '_seq_no': 6, '_primary_term': 1})"
      ]
     },
     "execution_count": 206,
     "metadata": {},
     "output_type": "execute_result"
    }
   ],
   "source": [
    "rr"
   ]
  },
  {
   "cell_type": "code",
   "execution_count": 235,
   "metadata": {},
   "outputs": [
    {
     "name": "stdout",
     "output_type": "stream",
     "text": [
      "{\n",
      "  \"_shards\": {\n",
      "    \"failed\": 0,\n",
      "    \"skipped\": 0,\n",
      "    \"successful\": 1,\n",
      "    \"total\": 1\n",
      "  },\n",
      "  \"hits\": {\n",
      "    \"hits\": [\n",
      "      {\n",
      "        \"_id\": \"GFDL-CM4-historical-tas-atmos-monthly\",\n",
      "        \"_index\": \"test-exp\",\n",
      "        \"_score\": 0.603535,\n",
      "        \"_source\": {\n",
      "          \"chunk\": \"5yr\",\n",
      "          \"dimensions\": \"lat lon time\",\n",
      "          \"forcing_id\": \"Ghg\",\n",
      "          \"frequency\": \"monthly\",\n",
      "          \"model\": \"GFDL-CM4\",\n",
      "          \"realm\": \"atmos\",\n",
      "          \"source_id\": \"historical\",\n",
      "          \"variable_id\": \"tas\"\n",
      "        },\n",
      "        \"_type\": \"_doc\"\n",
      "      },\n",
      "      {\n",
      "        \"_id\": \"GFDL-ESM4-historical-tas-atmos-monthly\",\n",
      "        \"_index\": \"test-exp\",\n",
      "        \"_score\": 0.13353139,\n",
      "        \"_source\": {\n",
      "          \"chunk\": \"5yr\",\n",
      "          \"dimensions\": \"lat lon time\",\n",
      "          \"forcing_id\": \"Ghg\",\n",
      "          \"frequency\": \"monthly\",\n",
      "          \"model\": \"GFDL-ESM4\",\n",
      "          \"realm\": \"atmos\",\n",
      "          \"source_id\": \"historical\",\n",
      "          \"variable_id\": \"tas\"\n",
      "        },\n",
      "        \"_type\": \"_doc\"\n",
      "      }\n",
      "    ],\n",
      "    \"max_score\": 0.603535,\n",
      "    \"total\": {\n",
      "      \"relation\": \"eq\",\n",
      "      \"value\": 2\n",
      "    }\n",
      "  },\n",
      "  \"timed_out\": false,\n",
      "  \"took\": 333\n",
      "}\n"
     ]
    },
    {
     "name": "stderr",
     "output_type": "stream",
     "text": [
      "/Users/ar46/opt/anaconda3/lib/python3.7/site-packages/ipykernel_launcher.py:4: DeprecationWarning: The 'body' parameter is deprecated and will be removed in a future version. Instead use individual parameters.\n",
      "  after removing the cwd from sys.path.\n",
      "/Users/ar46/opt/anaconda3/lib/python3.7/site-packages/ipykernel_launcher.py:4: ElasticsearchWarning: Elasticsearch built-in security features are not enabled. Without authentication, your cluster could be accessible to anyone. See https://www.elastic.co/guide/en/elasticsearch/reference/7.17/security-minimal-setup.html to enable security.\n",
      "  after removing the cwd from sys.path.\n"
     ]
    }
   ],
   "source": [
    "search_dict = {}\n",
    "search_object= {'query' : {'match': {'model': 'GFDL-CM4'}}}\n",
    "#search_object = {'_source': ['dimensions'], 'query' : {'match': {'model': 'GFDL-CM4'}}}\n",
    "rr = es.search(index = 'test-exp', body=search_object)\n",
    "#json.dumps(search_object)\n",
    "#resp2 = eval(str(rr))\n",
    "print(json.dumps(resp2, indent=2, sort_keys=True))\n"
   ]
  },
  {
   "cell_type": "code",
   "execution_count": 245,
   "metadata": {},
   "outputs": [
    {
     "name": "stdout",
     "output_type": "stream",
     "text": [
      "model = GFDL-CM4\n"
     ]
    }
   ],
   "source": [
    "keyword = 'model'\n",
    "val = esutils.filter_val(resp2,keyword)\n",
    "print(\"{} = {}\".format(keyword,val))"
   ]
  },
  {
   "cell_type": "code",
   "execution_count": null,
   "metadata": {},
   "outputs": [],
   "source": []
  }
 ],
 "metadata": {
  "kernelspec": {
   "display_name": "Python 3",
   "language": "python",
   "name": "python3"
  },
  "language_info": {
   "codemirror_mode": {
    "name": "ipython",
    "version": 3
   },
   "file_extension": ".py",
   "mimetype": "text/x-python",
   "name": "python",
   "nbconvert_exporter": "python",
   "pygments_lexer": "ipython3",
   "version": "3.7.6"
  }
 },
 "nbformat": 4,
 "nbformat_minor": 4
}
