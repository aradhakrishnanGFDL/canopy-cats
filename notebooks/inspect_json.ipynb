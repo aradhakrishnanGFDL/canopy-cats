{
 "cells": [
  {
   "cell_type": "markdown",
   "id": "fb3e6998-eb68-4d13-b053-60b226e91382",
   "metadata": {},
   "source": [
    "This is a demonstration of inspecting the esm_datastore to get info that went in the json file\n",
    "Reference: https://github.com/aradhakrishnanGFDL/canopy-cats"
   ]
  },
  {
   "cell_type": "code",
   "execution_count": 176,
   "id": "f1e5205a-13cb-4e21-996b-72db954b6042",
   "metadata": {},
   "outputs": [],
   "source": [
    "import intake,os\n",
    "import intake_esm"
   ]
  },
  {
   "cell_type": "code",
   "execution_count": 5,
   "id": "e27a61b9-4445-4a77-93e3-dda89ed8b465",
   "metadata": {},
   "outputs": [
    {
     "name": "stdout",
     "output_type": "stream",
     "text": [
      "2020.6.11\n"
     ]
    }
   ],
   "source": [
    "print(intake_esm.__version__) "
   ]
  },
  {
   "cell_type": "markdown",
   "id": "46786297-31e2-4962-a42d-4de7e15f4e05",
   "metadata": {},
   "source": [
    "INSERT THE LOCATION OF YOUR DATA CATALOG IN THE CELL BELOW TO EXPLORE SOMETHING ELSE"
   ]
  },
  {
   "cell_type": "code",
   "execution_count": 177,
   "id": "2cfc7a18-87b4-4657-a71e-b6f8b2bfb382",
   "metadata": {},
   "outputs": [],
   "source": [
    "col_url = \"/home/a1r/github/CatalogBuilder/scripts/catalogcmip-3.json\""
   ]
  },
  {
   "cell_type": "code",
   "execution_count": 178,
   "id": "31e4186d-e106-457c-9035-003c43e809a5",
   "metadata": {},
   "outputs": [],
   "source": [
    "col = intake.open_esm_datastore(col_url)"
   ]
  },
  {
   "cell_type": "code",
   "execution_count": 179,
   "id": "df58f5ab-3820-4f9b-a8b7-a82761e35c88",
   "metadata": {},
   "outputs": [
    {
     "data": {
      "text/plain": [
       "intake_esm.core.esm_datastore"
      ]
     },
     "execution_count": 179,
     "metadata": {},
     "output_type": "execute_result"
    }
   ],
   "source": [
    "type(col)"
   ]
  },
  {
   "cell_type": "code",
   "execution_count": 180,
   "id": "edb7fa6b-a1e8-477a-8c09-8784b1d9cca6",
   "metadata": {},
   "outputs": [
    {
     "data": {
      "text/plain": [
       "dict_keys(['esmcat_version', 'attributes', 'assets', 'aggregation_control', 'id', 'catalog_dict', 'catalog_file', 'description', 'title', 'last_updated'])"
      ]
     },
     "execution_count": 180,
     "metadata": {},
     "output_type": "execute_result"
    }
   ],
   "source": [
    "dict(col.esmcat).keys()"
   ]
  },
  {
   "cell_type": "code",
   "execution_count": 181,
   "id": "1e54b329-fd5c-4111-9801-05baa775873b",
   "metadata": {},
   "outputs": [
    {
     "data": {
      "text/plain": [
       "AggregationControl(variable_column_name='variable_id', groupby_attrs=['source_id', 'experiment_id', 'frequency', 'modeling_realm', 'member_id', 'table_id', 'grid_label', 'chunk_freq'], aggregations=[Aggregation(type=<AggregationType.union: 'union'>, attribute_name='variable_id', options={}), Aggregation(type=<AggregationType.join_existing: 'join_existing'>, attribute_name='temporal_subset', options={'dim': 'time', 'coords': 'minimal', 'compat': 'override'})])"
      ]
     },
     "execution_count": 181,
     "metadata": {},
     "output_type": "execute_result"
    }
   ],
   "source": [
    "dict(col.esmcat)['aggregation_control']"
   ]
  },
  {
   "cell_type": "code",
   "execution_count": 192,
   "id": "189b89ee-0f64-4865-8445-a9e7426402c4",
   "metadata": {},
   "outputs": [
    {
     "data": {
      "text/plain": [
       "[Attribute(column_name='activity_id', vocabulary=''),\n",
       " Attribute(column_name='institution_id', vocabulary=''),\n",
       " Attribute(column_name='source_id', vocabulary=''),\n",
       " Attribute(column_name='experiment_id', vocabulary=''),\n",
       " Attribute(column_name='frequency', vocabulary='https://raw.githubusercontent.com/NOAA-GFDL/CMIP6_CVs/master/CMIP6_frequency.json'),\n",
       " Attribute(column_name='modeling_realm', vocabulary=''),\n",
       " Attribute(column_name='table_id', vocabulary=''),\n",
       " Attribute(column_name='member_id', vocabulary=''),\n",
       " Attribute(column_name='grid_label', vocabulary=''),\n",
       " Attribute(column_name='variable_id', vocabulary=''),\n",
       " Attribute(column_name='temporal_subset', vocabulary=''),\n",
       " Attribute(column_name='chunk_freq', vocabulary='https://raw.githubusercontent.com/NOAA-GFDL/CMIP6_CVs/master/GFDL_chunk_freq.json'),\n",
       " Attribute(column_name='grid_label', vocabulary=''),\n",
       " Attribute(column_name='version_id', vocabulary=''),\n",
       " Attribute(column_name='platform', vocabulary=''),\n",
       " Attribute(column_name='platform', vocabulary=''),\n",
       " Attribute(column_name='cell_methods', vocabulary=''),\n",
       " Attribute(column_name='path', vocabulary='')]"
      ]
     },
     "execution_count": 192,
     "metadata": {},
     "output_type": "execute_result"
    }
   ],
   "source": [
    "dict(col.esmcat)['attributes']"
   ]
  },
  {
   "cell_type": "code",
   "execution_count": 194,
   "id": "eda6d4ee-556a-4ad7-9333-535c776dead4",
   "metadata": {},
   "outputs": [
    {
     "data": {
      "text/plain": [
       "Attribute(column_name='frequency', vocabulary='https://raw.githubusercontent.com/NOAA-GFDL/CMIP6_CVs/master/CMIP6_frequency.json')"
      ]
     },
     "execution_count": 194,
     "metadata": {},
     "output_type": "execute_result"
    }
   ],
   "source": [
    "dict(col.esmcat)['attributes'][4]"
   ]
  },
  {
   "cell_type": "code",
   "execution_count": 122,
   "id": "909c9028-54b7-4306-a803-5cb0f47b9693",
   "metadata": {},
   "outputs": [],
   "source": [
    "col.keys()"
   ]
  },
  {
   "cell_type": "markdown",
   "id": "5c794503-01a4-4dd3-96cf-67e697bd1593",
   "metadata": {},
   "source": [
    "Example search for a variable that potentially is served on two grids, and has multiple member_id"
   ]
  }
 ],
 "metadata": {
  "kernelspec": {
   "display_name": "catalog",
   "language": "python",
   "name": "catalog"
  },
  "language_info": {
   "codemirror_mode": {
    "name": "ipython",
    "version": 3
   },
   "file_extension": ".py",
   "mimetype": "text/x-python",
   "name": "python",
   "nbconvert_exporter": "python",
   "pygments_lexer": "ipython3",
   "version": "3.9.12"
  }
 },
 "nbformat": 4,
 "nbformat_minor": 5
}
