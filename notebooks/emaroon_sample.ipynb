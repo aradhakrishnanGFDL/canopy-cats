{
 "cells": [
  {
   "cell_type": "markdown",
   "id": "f39f9409-ee87-4431-9953-55607daba427",
   "metadata": {},
   "source": [
    "This notebook was tested from a GFDL workstation, with sample data from CAM. \n",
    "This notebook is an example of using catalog builder from a notebook to generate data catalogs  (for a NCAR model), a.k.a intake-esm catalogs.\n",
    "\n",
    "PR https://github.com/NOAA-GFDL/CatalogBuilder/pull/89\n",
    "(Use branch 89-cesm for testing the notebook)\n",
    "\n",
    "How to run this notebook?\n",
    "\n",
    "Method 1:\n",
    "\n",
    "git clone https://github.com/NOAA-GFDL/CatalogBuilder.git\n",
    "Use the main branch, unless you're working on a new feature and helping with a PR testing, use the associated branch. \n",
    "\n",
    "Using this environment.yml, create a conda environment called catalogbuilder\n",
    "\n",
    "Configure your jupyter-lab to use this environment. If you're simple running .py script based on this notebook, then just activate this conda environment. \n",
    "\n",
    "Method 1 also allows for dev and contribution. \n",
    "\n",
    "https://github.com/NOAA-GFDL/CatalogBuilder/blob/main/environment.yml\n",
    "conda env create -f environent.yml\n",
    "\n",
    "Method 2: (if you're working on a branch that is not main, this method may not be relevant)\n",
    "\n",
    "conda create -n catalogbuilder \n",
    "conda install catalogbuilder -c noaa-gfdl -n catalogbuilder\n",
    "\n",
    "Now, we do a couple of things to make sure your environment is available to jupyter-lab as a kernel.\n",
    "\n",
    "pip install ipykernel \n",
    "python -m ipykernel install --user --name=catalogbuilder\n",
    "\n",
    "Now, start a jupyter-lab session \n",
    "\n",
    "jupyter-lab \n",
    "\n",
    "This will give you the URL to the jupyter-lab session running on your localhost. Paste the URL in your web-browser (or via TigerVNC). Paste the notebook cells from this notebook, or locate the notebook from the path where you have downloaded or cloned it via git. Go to Kernel->Change Kernel-> Choose intakebuilder.\n",
    "\n",
    "Run the notebook and see the results! Extend it and share it with us via a github issue. \n"
   ]
  },
  {
   "cell_type": "code",
   "execution_count": 1,
   "id": "fb3010b8-170f-4462-ad2a-457d1d5415f7",
   "metadata": {},
   "outputs": [],
   "source": [
    "import sys, os \n",
    "git_package_dir = '/home/a1r/github/noaa-gfdl/CatalogBuilder/'\n",
    "sys.path.append(git_package_dir)\n",
    "\n",
    "import catalogbuilder\n",
    "from catalogbuilder.scripts import gen_intake_gfdl\n",
    "######USER input begins########\n",
    "\n",
    "#User provides the input directory for which a data catalog needs to be generated.\n",
    "\n",
    "input_path = \"/home/a1r/mdtf/inputdata/model/cesm2/b.e21.BHIST.f09_g17.CMIP6-historical.001/ts/\"\n",
    "\n",
    "#USER inputs the output path. Based on the following setting, user can expect to see /home/a1r/mycatalog.csv and /home/a1r/mycatalog.json generated as output.\n",
    "\n",
    "output_path = \"/home/a1r/tests/emaroon-cesm-example1\"\n",
    " \n",
    "####END OF user input ##########\n",
    "\n",
    "configyaml = '/home/a1r/git/sandbox/cats/emaroon/cesm-template.yaml'\n"
   ]
  },
  {
   "cell_type": "markdown",
   "id": "dc73f784-66ba-4399-8cfb-46b10d7f4048",
   "metadata": {},
   "source": [
    "### You can specify a log file for the debug and info messages if you'd like.\n",
    "### This is optional. "
   ]
  },
  {
   "cell_type": "markdown",
   "id": "eb51e9e2-2a42-45f2-bd72-0737c23370e8",
   "metadata": {},
   "source": [
    "import logging\n",
    "hdlr = logging.FileHandler('/nbhome/a1r/logs/local.log') \n",
    "gen_intake_gfdl.logger.addHandler(hdlr)\n",
    "\n",
    "#issue https://github.com/NOAA-GFDL/CatalogBuilder/issues/69"
   ]
  },
  {
   "cell_type": "code",
   "execution_count": 2,
   "id": "70d7c6a0-2567-4363-a3cc-2daeb1452201",
   "metadata": {
    "scrolled": true
   },
   "outputs": [
    {
     "name": "stdout",
     "output_type": "stream",
     "text": [
      "INFO:local:Verbose log activated.\n",
      "DEBUG:local:input_path does not exist in config\n",
      "DEBUG:local:output_path does not exist in config\n",
      "DEBUG:local:headerlist :['activity_id', 'institution_id', 'source_id', 'experiment_id', 'frequency', 'realm', 'table_id', 'member_id', 'grid_label', 'variable_id', 'time_range', 'chunk_freq', 'grid_label', 'platform', 'dimensions', 'cell_methods', 'standard_name', 'path']\n",
      "DEBUG:local:output_path_template :['NA', 'NA', 'NA', 'NA', 'NA', 'source_id', 'custom_pp', 'cell_methods', 'realm']\n",
      "DEBUG:local:output_file_template :['NA', 'NA', 'NA', 'NA', 'source_id', 'member_id', 'variable_id', 'frequency']\n",
      "INFO:local:Default schema: catalogbuilder/cats/gfdl_template.json\n",
      "INFO:local:input path: /home/a1r/mdtf/inputdata/model/cesm2/b.e21.BHIST.f09_g17.CMIP6-historical.001/ts/\n",
      "INFO:local: output path: /home/a1r/tests/emaroon-cesm-example1\n",
      "DEBUG:local:Calling gfdlcrawler.crawlLocal\n",
      "DEBUG:local:Missing cols from metadata sources:['activity_id', 'institution_id', 'experiment_id', 'table_id', 'grid_label', 'time_range', 'chunk_freq', 'grid_label', 'platform', 'dimensions', 'standard_name']\n",
      "DEBUG:local:/home/a1r/mdtf/inputdata/model/cesm2/b.e21.BHIST.f09_g17.CMIP6-historical.001/ts/mon/ocean/b.e21.BHIST.f09_g17.CMIP6-historical.001.SALT.mon.nc\n",
      "This is likely static\n",
      "INFO:local:Retrieving standard_name from b.e21.BHIST.f09_g17.CMIP6-historical.001.SALT.mon.nc\n",
      "standard_name found NA\n",
      "JSON generated at: /home/a1r/tests/emaroon-cesm-example1.json\n",
      "CSV generated at: /home/a1r/tests/emaroon-cesm-example1.csv\n",
      "INFO:local:CSV generated at/home/a1r/tests/emaroon-cesm-example1.csv\n"
     ]
    }
   ],
   "source": [
    "#This is an example call to run catalog builder using a yaml config file.\n",
    "#We have turned on slow option to get standard name from the header \n",
    "\n",
    "def create_catalog_from_config(input_path=input_path,output_path=output_path,configyaml=configyaml):\n",
    "    csv, json = gen_intake_gfdl.create_catalog(input_path=input_path,output_path=output_path,verbose=True,config=configyaml,slow=True)\n",
    "    return(csv,json)\n",
    "\n",
    "if __name__ == '__main__':\n",
    "    create_catalog_from_config(input_path,output_path,configyaml)\n",
    "    "
   ]
  },
  {
   "cell_type": "code",
   "execution_count": 3,
   "id": "5508da3b-cca1-4ea3-8493-c3ba3d0eebfc",
   "metadata": {},
   "outputs": [],
   "source": [
    "import intake, intake_esm\n",
    "import matplotlib #do a pip install of tools needed in your env or from the notebook\n",
    "from matplotlib import pyplot as plt\n",
    "%matplotlib inline\n",
    "import warnings\n",
    "warnings.filterwarnings(\"ignore\")"
   ]
  },
  {
   "cell_type": "code",
   "execution_count": 5,
   "id": "c9e44076-2a5c-46eb-a9f4-f1db0d1ccbdc",
   "metadata": {},
   "outputs": [],
   "source": [
    "col_url = \"/home/a1r/tests/emaroon-cesm-example1.json\"\n",
    "col = intake.open_esm_datastore(col_url)"
   ]
  },
  {
   "cell_type": "code",
   "execution_count": 6,
   "id": "4471139a-2040-4a5f-a3e5-93d226e9cf99",
   "metadata": {},
   "outputs": [
    {
     "data": {
      "text/html": [
       "<div>\n",
       "<style scoped>\n",
       "    .dataframe tbody tr th:only-of-type {\n",
       "        vertical-align: middle;\n",
       "    }\n",
       "\n",
       "    .dataframe tbody tr th {\n",
       "        vertical-align: top;\n",
       "    }\n",
       "\n",
       "    .dataframe thead th {\n",
       "        text-align: right;\n",
       "    }\n",
       "</style>\n",
       "<table border=\"1\" class=\"dataframe\">\n",
       "  <thead>\n",
       "    <tr style=\"text-align: right;\">\n",
       "      <th></th>\n",
       "      <th>activity_id</th>\n",
       "      <th>institution_id</th>\n",
       "      <th>source_id</th>\n",
       "      <th>experiment_id</th>\n",
       "      <th>frequency</th>\n",
       "      <th>realm</th>\n",
       "      <th>table_id</th>\n",
       "      <th>member_id</th>\n",
       "      <th>grid_label</th>\n",
       "      <th>variable_id</th>\n",
       "      <th>time_range</th>\n",
       "      <th>chunk_freq</th>\n",
       "      <th>grid_label.1</th>\n",
       "      <th>platform</th>\n",
       "      <th>dimensions</th>\n",
       "      <th>cell_methods</th>\n",
       "      <th>standard_name</th>\n",
       "      <th>path</th>\n",
       "    </tr>\n",
       "  </thead>\n",
       "  <tbody>\n",
       "    <tr>\n",
       "      <th>0</th>\n",
       "      <td>NaN</td>\n",
       "      <td>NaN</td>\n",
       "      <td>b.e21.BHIST.f09_g17.CMIP6-historical.001</td>\n",
       "      <td>NaN</td>\n",
       "      <td>mon</td>\n",
       "      <td>ocean</td>\n",
       "      <td>NaN</td>\n",
       "      <td>NaN</td>\n",
       "      <td>NaN</td>\n",
       "      <td>SALT</td>\n",
       "      <td>NaN</td>\n",
       "      <td>NaN</td>\n",
       "      <td>NaN</td>\n",
       "      <td>NaN</td>\n",
       "      <td>NaN</td>\n",
       "      <td>NaN</td>\n",
       "      <td>NaN</td>\n",
       "      <td>/home/a1r/mdtf/inputdata/model/cesm2/b.e21.BHI...</td>\n",
       "    </tr>\n",
       "  </tbody>\n",
       "</table>\n",
       "</div>"
      ],
      "text/plain": [
       "   activity_id  institution_id                                 source_id  \\\n",
       "0          NaN             NaN  b.e21.BHIST.f09_g17.CMIP6-historical.001   \n",
       "\n",
       "   experiment_id frequency  realm  table_id  member_id  grid_label  \\\n",
       "0            NaN       mon  ocean       NaN        NaN         NaN   \n",
       "\n",
       "  variable_id  time_range  chunk_freq  grid_label.1  platform  dimensions  \\\n",
       "0        SALT         NaN         NaN           NaN       NaN         NaN   \n",
       "\n",
       "   cell_methods  standard_name  \\\n",
       "0           NaN            NaN   \n",
       "\n",
       "                                                path  \n",
       "0  /home/a1r/mdtf/inputdata/model/cesm2/b.e21.BHI...  "
      ]
     },
     "execution_count": 6,
     "metadata": {},
     "output_type": "execute_result"
    }
   ],
   "source": [
    "col.df"
   ]
  },
  {
   "cell_type": "code",
   "execution_count": null,
   "id": "75676e8c-9542-46fd-84f3-26a9787ceaf8",
   "metadata": {},
   "outputs": [],
   "source": []
  }
 ],
 "metadata": {
  "kernelspec": {
   "display_name": "catalogbuilder",
   "language": "python",
   "name": "catalogbuilder"
  },
  "language_info": {
   "codemirror_mode": {
    "name": "ipython",
    "version": 3
   },
   "file_extension": ".py",
   "mimetype": "text/x-python",
   "name": "python",
   "nbconvert_exporter": "python",
   "pygments_lexer": "ipython3",
   "version": "3.12.5"
  }
 },
 "nbformat": 4,
 "nbformat_minor": 5
}
