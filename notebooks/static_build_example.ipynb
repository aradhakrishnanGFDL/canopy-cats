{
 "cells": [
  {
   "cell_type": "markdown",
   "id": "f39f9409-ee87-4431-9953-55607daba427",
   "metadata": {},
   "source": [
    "This notebook was tested from a GFDL workstation.\n",
    "This notebook is an example of using catalog builder from a notebook to generate data catalogs, a.k.a intake-esm catalogs.\n",
    "\n",
    "How to get here? \n",
    "\n",
    "Login to your workstation at GFDL.\n",
    "module load miniforge\n",
    "conda activate catalogbuilder \n",
    "(For the above: Note that you can either install your own environment using the following or use an existing environment such as this: conda activate /nbhome/Aparna.Radhakrishnan/conda/envs/catalogbuilder)\n",
    "\n",
    "Alternatively (or the primary method)\n",
    "\n",
    "conda create -n catalogbuilder \n",
    "conda install catalogbuilder -c noaa-gfdl -n catalogbuilder\n",
    "\n",
    "Now, we do a couple of things to make sure your environment is available to jupyter-lab as a kernel.\n",
    "\n",
    "pip install ipykernel \n",
    "python -m ipykernel install --user --name=catalogbuilder\n",
    "\n",
    "Now, start a jupyter-lab session from GFDL workstation: \n",
    "\n",
    "jupyter-lab \n",
    "\n",
    "This will give you the URL to the jupyter-lab session running on your localhost. Paste the URL in your web-browser (or via TigerVNC). Paste the notebook cells from this notebook, or locate the notebook from the path where you have downloaded or cloned it via git. Go to Kernel->Change Kernel-> Choose intakebuilder.\n",
    "\n",
    "Run the notebook and see the results! Extend it and share it with us via a github issue. \n"
   ]
  },
  {
   "cell_type": "code",
   "execution_count": 1,
   "id": "fb3010b8-170f-4462-ad2a-457d1d5415f7",
   "metadata": {},
   "outputs": [
    {
     "name": "stdout",
     "output_type": "stream",
     "text": [
      "/home/a1r/git/forkCatalogBuilder-/catalogbuilder/scripts/gen_intake_gfdl.py\n"
     ]
    }
   ],
   "source": [
    "import sys, os \n",
    "git_package_dir = '/home/a1r/git/forkCatalogBuilder-/'\n",
    "sys.path.append(git_package_dir)\n",
    "\n",
    "import catalogbuilder\n",
    "from catalogbuilder.scripts import gen_intake_gfdl\n",
    "print(gen_intake_gfdl.__file__)\n",
    "\n",
    "######USER input begins########\n",
    "\n",
    "#User provides the input directory for which a data catalog needs to be generated.\n",
    "\n",
    "input_path = \"/archive/a1r/fre/FMS2024.02_OM5_20240724/CM4.5v01_om5b06_piC_noBLING/gfdl.ncrc5-intel23-prod-openmp/pp/\"\n",
    "#/archive/am5/am5/am5f3b1r0/c96L65_am5f3b1r0_pdclim1850F/gfdl.ncrc5-deploy-prod-openmp/pp/\"\n",
    "\n",
    "#USER inputs the output path. Based on the following setting, user can expect to see /home/a1r/mycatalog.csv and /home/a1r/mycatalog.json generated as output.\n",
    "\n",
    "output_path = \"/home/a1r/tests/static-catalog\"\n",
    "#NOTE: If your input_path does not look like the above in general, you will need to pass a --config which is custom \n",
    "#for your directory structure. See examples below.  \n",
    "####END OF user input ##########\n",
    "\n"
   ]
  },
  {
   "cell_type": "code",
   "execution_count": 2,
   "id": "70d7c6a0-2567-4363-a3cc-2daeb1452201",
   "metadata": {
    "scrolled": true
   },
   "outputs": [
    {
     "name": "stdout",
     "output_type": "stream",
     "text": [
      "INFO:local:[Mostly] silent log activated\n",
      "INFO:local:Default schema: catalogbuilder/cats/gfdl_template.json\n",
      "INFO:local:input path: /archive/a1r/fre/FMS2024.02_OM5_20240724/CM4.5v01_om5b06_piC_noBLING/gfdl.ncrc5-intel23-prod-openmp/pp/\n",
      "INFO:local: output path: /home/a1r/tests/static-catalog\n",
      "{'activity_id': 'dev', 'path': '/archive/a1r/fre/FMS2024.02_OM5_20240724/CM4.5v01_om5b06_piC_noBLING/gfdl.ncrc5-intel23-prod-openmp/pp/ocean_monthly/ocean_monthly.static.nc', 'variable_id': 'fixed', 'frequency': 'fx', 'table_id': 'fx', 'realm': 'static'}\n",
      "{'activity_id': 'dev', 'path': '/archive/a1r/fre/FMS2024.02_OM5_20240724/CM4.5v01_om5b06_piC_noBLING/gfdl.ncrc5-intel23-prod-openmp/pp/ocean_monthly/ts/monthly/5yr/ocean_monthly.000101-000512.zos.nc', 'variable_id': 'zos', 'time_range': '000101-000512', 'realm': 'ocean_monthly'}\n",
      "time-series data\n",
      "{'activity_id': 'dev', 'path': '/archive/a1r/fre/FMS2024.02_OM5_20240724/CM4.5v01_om5b06_piC_noBLING/gfdl.ncrc5-intel23-prod-openmp/pp/ocean_monthly/ts/monthly/5yr/ocean_monthly.000601-001012.zos.nc', 'variable_id': 'zos', 'time_range': '000601-001012', 'realm': 'ocean_monthly'}\n",
      "time-series data\n",
      "{'activity_id': 'dev', 'path': '/archive/a1r/fre/FMS2024.02_OM5_20240724/CM4.5v01_om5b06_piC_noBLING/gfdl.ncrc5-intel23-prod-openmp/pp/ocean_monthly/ts/monthly/5yr/ocean_monthly.001101-001512.zos.nc', 'variable_id': 'zos', 'time_range': '001101-001512', 'realm': 'ocean_monthly'}\n",
      "time-series data\n",
      "{'activity_id': 'dev', 'path': '/archive/a1r/fre/FMS2024.02_OM5_20240724/CM4.5v01_om5b06_piC_noBLING/gfdl.ncrc5-intel23-prod-openmp/pp/ocean_monthly/ts/monthly/5yr/ocean_monthly.001601-002012.zos.nc', 'variable_id': 'zos', 'time_range': '001601-002012', 'realm': 'ocean_monthly'}\n",
      "time-series data\n",
      "{'activity_id': 'dev', 'path': '/archive/a1r/fre/FMS2024.02_OM5_20240724/CM4.5v01_om5b06_piC_noBLING/gfdl.ncrc5-intel23-prod-openmp/pp/ocean_monthly/ts/monthly/5yr/ocean_monthly.002101-002512.zos.nc', 'variable_id': 'zos', 'time_range': '002101-002512', 'realm': 'ocean_monthly'}\n",
      "time-series data\n",
      "{'activity_id': 'dev', 'path': '/archive/a1r/fre/FMS2024.02_OM5_20240724/CM4.5v01_om5b06_piC_noBLING/gfdl.ncrc5-intel23-prod-openmp/pp/ocean_monthly/ts/monthly/5yr/ocean_monthly.002601-003012.zos.nc', 'variable_id': 'zos', 'time_range': '002601-003012', 'realm': 'ocean_monthly'}\n",
      "time-series data\n",
      "{'activity_id': 'dev', 'path': '/archive/a1r/fre/FMS2024.02_OM5_20240724/CM4.5v01_om5b06_piC_noBLING/gfdl.ncrc5-intel23-prod-openmp/pp/ocean_monthly/ts/monthly/5yr/ocean_monthly.003101-003512.zos.nc', 'variable_id': 'zos', 'time_range': '003101-003512', 'realm': 'ocean_monthly'}\n",
      "time-series data\n",
      "{'activity_id': 'dev', 'path': '/archive/a1r/fre/FMS2024.02_OM5_20240724/CM4.5v01_om5b06_piC_noBLING/gfdl.ncrc5-intel23-prod-openmp/pp/ocean_monthly/ts/monthly/5yr/ocean_monthly.003601-004012.zos.nc', 'variable_id': 'zos', 'time_range': '003601-004012', 'realm': 'ocean_monthly'}\n",
      "time-series data\n",
      "{'activity_id': 'dev', 'path': '/archive/a1r/fre/FMS2024.02_OM5_20240724/CM4.5v01_om5b06_piC_noBLING/gfdl.ncrc5-intel23-prod-openmp/pp/ocean_monthly/ts/monthly/5yr/ocean_monthly.004601-005012.zos.nc', 'variable_id': 'zos', 'time_range': '004601-005012', 'realm': 'ocean_monthly'}\n",
      "time-series data\n",
      "{'activity_id': 'dev', 'path': '/archive/a1r/fre/FMS2024.02_OM5_20240724/CM4.5v01_om5b06_piC_noBLING/gfdl.ncrc5-intel23-prod-openmp/pp/ocean_monthly/ts/monthly/5yr/ocean_monthly.005101-005512.zos.nc', 'variable_id': 'zos', 'time_range': '005101-005512', 'realm': 'ocean_monthly'}\n",
      "time-series data\n",
      "{'activity_id': 'dev', 'path': '/archive/a1r/fre/FMS2024.02_OM5_20240724/CM4.5v01_om5b06_piC_noBLING/gfdl.ncrc5-intel23-prod-openmp/pp/ocean_monthly/ts/monthly/5yr/ocean_monthly.005601-006012.zos.nc', 'variable_id': 'zos', 'time_range': '005601-006012', 'realm': 'ocean_monthly'}\n",
      "time-series data\n"
     ]
    },
    {
     "name": "stdin",
     "output_type": "stream",
     "text": [
      "Found existing file! Overwrite? (y/n) y\n"
     ]
    },
    {
     "name": "stdout",
     "output_type": "stream",
     "text": [
      "JSON generated at: /home/a1r/tests/static-catalog.json\n",
      "CSV generated at: /home/a1r/tests/static-catalog.csv\n",
      "INFO:local:CSV generated at/home/a1r/tests/static-catalog.csv\n"
     ]
    }
   ],
   "source": [
    "#This is an example call to run catalog builder using a yaml config file.\n",
    "configyaml = os.path.join(git_package_dir, 'configs/config-template.yaml')\n",
    "#input_path = \"/archive/am5/am5/am5f3b1r0/c96L65_am5f3b1r0_pdclim1850F/gfdl.ncrc5-deploy-prod-openmp/pp\"\n",
    "#output_path = \"sample-mdtf-catalog\"\n",
    "\n",
    "def create_catalog_from_config(input_path=input_path,output_path=output_path): #,configyaml=configyaml):\n",
    "    csv, json = gen_intake_gfdl.create_catalog(input_path=input_path,output_path=output_path)#,verbose=True,config=configyaml)\n",
    "    return(csv,json)\n",
    "\n",
    "if __name__ == '__main__':\n",
    "    csv,json = create_catalog_from_config(input_path,output_path)#,configyaml)\n",
    "    "
   ]
  },
  {
   "cell_type": "markdown",
   "id": "626eaa1f-d801-4a7d-8fad-2851c9e81070",
   "metadata": {},
   "source": [
    "Let's begin our analysis"
   ]
  },
  {
   "cell_type": "code",
   "execution_count": null,
   "id": "181913cc-4776-4b16-95d6-c6ea1b2cbdad",
   "metadata": {},
   "outputs": [],
   "source": [
    "import intake, intake_esm\n",
    "import matplotlib #do a pip install of tools needed in your env or from the notebook\n",
    "from matplotlib import pyplot as plt\n",
    "%matplotlib inline\n",
    "import warnings\n",
    "warnings.filterwarnings(\"ignore\")\n"
   ]
  },
  {
   "cell_type": "code",
   "execution_count": null,
   "id": "0f83dbc3-3dda-4a43-82e9-fb8726b2cda8",
   "metadata": {},
   "outputs": [],
   "source": [
    "col_url = json\n",
    "col = intake.open_esm_datastore(col_url)"
   ]
  },
  {
   "cell_type": "markdown",
   "id": "344ada01-6716-4fbd-9cee-878ff815d7dd",
   "metadata": {},
   "source": [
    "Explore the catalog"
   ]
  },
  {
   "cell_type": "code",
   "execution_count": null,
   "id": "1ce0716e-6667-4aeb-8c4b-50a05643b87f",
   "metadata": {},
   "outputs": [],
   "source": [
    "col.df"
   ]
  },
  {
   "cell_type": "markdown",
   "id": "613f8259-a92f-4be5-8268-dfbe225f0670",
   "metadata": {},
   "source": [
    "Let's narrow down the search"
   ]
  },
  {
   "cell_type": "code",
   "execution_count": null,
   "id": "62acbaec-573c-47f9-83bc-015790fd7983",
   "metadata": {},
   "outputs": [],
   "source": [
    "expname_filter = ['CM4.5v01_om5b06_piC_noBLING']\n",
    "modeling_realm = \"ocean_monthly\"\n",
    "frequency = \"mon\""
   ]
  },
  {
   "cell_type": "code",
   "execution_count": null,
   "id": "7fa86782-3f7b-4dbf-80af-0f035003d57f",
   "metadata": {},
   "outputs": [],
   "source": [
    "cat = col.search(experiment_id=expname_filter,frequency=frequency,realm=modeling_realm)"
   ]
  },
  {
   "cell_type": "code",
   "execution_count": null,
   "id": "6fe2cf2f-e74a-4b50-a099-47c28541878d",
   "metadata": {},
   "outputs": [],
   "source": [
    "set(cat.df[\"variable_id\"])"
   ]
  },
  {
   "cell_type": "code",
   "execution_count": null,
   "id": "aa216969-e335-4448-977c-d623a62a697e",
   "metadata": {},
   "outputs": [],
   "source": [
    "cat = cat.search(variable_id=\"sos\") #Total Soil Moisture Content"
   ]
  },
  {
   "cell_type": "markdown",
   "id": "8542c4e8-07eb-48ba-b466-8e07d3405415",
   "metadata": {},
   "source": [
    "dmget the files"
   ]
  },
  {
   "cell_type": "code",
   "execution_count": null,
   "id": "38e579a4-0f8e-4eb0-b96b-8db9f86238bd",
   "metadata": {},
   "outputs": [],
   "source": [
    "cat"
   ]
  },
  {
   "cell_type": "code",
   "execution_count": null,
   "id": "5227091c-5d83-4b73-a340-22e92124e1f7",
   "metadata": {},
   "outputs": [],
   "source": [
    "#for simple dmget usage, just use this !dmget {file}\n",
    "#use following to wrap the dmget call for each path in the catalog\n",
    "def dmgetmagic(x):\n",
    "    cmd = 'dmget %s'% str(x) \n",
    "    return os.system(cmd)\n",
    "\n",
    "#OR refer to importing dmget ,  https://github.com/aradhakrishnanGFDL/canopy-cats/tree/main/notebooks/dmget.py"
   ]
  },
  {
   "cell_type": "code",
   "execution_count": null,
   "id": "5eb6b01e-4d68-48ee-904f-dd285be7dee5",
   "metadata": {},
   "outputs": [],
   "source": [
    "dmstatus = cat.df[\"path\"].apply(dmgetmagic)"
   ]
  },
  {
   "cell_type": "code",
   "execution_count": null,
   "id": "8b50305d-aac1-4df5-add1-fbc9af7773ab",
   "metadata": {},
   "outputs": [],
   "source": [
    "dset_dict = cat.to_dataset_dict(cdf_kwargs={'chunks': {'time':5}, 'decode_times': True})"
   ]
  },
  {
   "cell_type": "code",
   "execution_count": null,
   "id": "f1c27413-e9a7-4855-b9be-1c0b9cf7f4ac",
   "metadata": {},
   "outputs": [],
   "source": [
    "for k in dset_dict.keys(): \n",
    "    print(k)"
   ]
  },
  {
   "cell_type": "code",
   "execution_count": null,
   "id": "9aae260f-87c8-4d2a-9b55-b9587c1f2309",
   "metadata": {},
   "outputs": [],
   "source": [
    "ds = dset_dict[k]"
   ]
  },
  {
   "cell_type": "code",
   "execution_count": null,
   "id": "c650221c-714e-4f2e-a53f-ca937c6c38ae",
   "metadata": {},
   "outputs": [],
   "source": [
    "ds"
   ]
  },
  {
   "cell_type": "code",
   "execution_count": null,
   "id": "84071a21-5f29-4554-99cb-7c02bda9d1f7",
   "metadata": {},
   "outputs": [],
   "source": [
    "ds[\"sos\"]"
   ]
  },
  {
   "cell_type": "code",
   "execution_count": null,
   "id": "d8e8cd0c-5502-4564-bb12-a269781415ad",
   "metadata": {},
   "outputs": [],
   "source": [
    "sos = ds.sos.isel(time=1).plot()"
   ]
  },
  {
   "cell_type": "code",
   "execution_count": null,
   "id": "68b4a24c-0720-476b-8061-c42c84608e5d",
   "metadata": {},
   "outputs": [],
   "source": [
    "ds.sos.mean(dim='time').plot()"
   ]
  },
  {
   "cell_type": "code",
   "execution_count": null,
   "id": "6765606d-4ae6-463b-a54d-800865fd8fa6",
   "metadata": {},
   "outputs": [],
   "source": []
  },
  {
   "cell_type": "code",
   "execution_count": null,
   "id": "334135f2-9a7e-46d4-93ca-f6ae5f862599",
   "metadata": {},
   "outputs": [],
   "source": []
  }
 ],
 "metadata": {
  "kernelspec": {
   "display_name": "catalogbuilder",
   "language": "python",
   "name": "catalogbuilder"
  },
  "language_info": {
   "codemirror_mode": {
    "name": "ipython",
    "version": 3
   },
   "file_extension": ".py",
   "mimetype": "text/x-python",
   "name": "python",
   "nbconvert_exporter": "python",
   "pygments_lexer": "ipython3",
   "version": "3.12.5"
  }
 },
 "nbformat": 4,
 "nbformat_minor": 5
}
